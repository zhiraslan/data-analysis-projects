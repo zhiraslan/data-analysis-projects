{
 "cells": [
  {
   "cell_type": "code",
   "execution_count": 2,
   "metadata": {},
   "outputs": [],
   "source": [
    "import pandas as pd\n",
    "import numpy as np\n",
    "import matplotlib.pyplot as plt\n",
    "import random"
   ]
  },
  {
   "cell_type": "code",
   "execution_count": 3,
   "metadata": {},
   "outputs": [
    {
     "data": {
      "text/html": [
       "<div>\n",
       "<style scoped>\n",
       "    .dataframe tbody tr th:only-of-type {\n",
       "        vertical-align: middle;\n",
       "    }\n",
       "\n",
       "    .dataframe tbody tr th {\n",
       "        vertical-align: top;\n",
       "    }\n",
       "\n",
       "    .dataframe thead th {\n",
       "        text-align: right;\n",
       "    }\n",
       "</style>\n",
       "<table border=\"1\" class=\"dataframe\">\n",
       "  <thead>\n",
       "    <tr style=\"text-align: right;\">\n",
       "      <th></th>\n",
       "      <th>cnt(A)</th>\n",
       "      <th>sum(A)</th>\n",
       "      <th>cnt(B)</th>\n",
       "      <th>sum(B)</th>\n",
       "    </tr>\n",
       "    <tr>\n",
       "      <th>date</th>\n",
       "      <th></th>\n",
       "      <th></th>\n",
       "      <th></th>\n",
       "      <th></th>\n",
       "    </tr>\n",
       "  </thead>\n",
       "  <tbody>\n",
       "    <tr>\n",
       "      <th>2019-09-01</th>\n",
       "      <td>56</td>\n",
       "      <td>110247</td>\n",
       "      <td>52</td>\n",
       "      <td>163098</td>\n",
       "    </tr>\n",
       "    <tr>\n",
       "      <th>2019-09-02</th>\n",
       "      <td>56</td>\n",
       "      <td>26457</td>\n",
       "      <td>59</td>\n",
       "      <td>93317</td>\n",
       "    </tr>\n",
       "    <tr>\n",
       "      <th>2019-09-03</th>\n",
       "      <td>54</td>\n",
       "      <td>56418</td>\n",
       "      <td>46</td>\n",
       "      <td>16985</td>\n",
       "    </tr>\n",
       "    <tr>\n",
       "      <th>2019-09-04</th>\n",
       "      <td>59</td>\n",
       "      <td>27379</td>\n",
       "      <td>46</td>\n",
       "      <td>31152</td>\n",
       "    </tr>\n",
       "    <tr>\n",
       "      <th>2019-09-05</th>\n",
       "      <td>49</td>\n",
       "      <td>17503</td>\n",
       "      <td>82</td>\n",
       "      <td>32306</td>\n",
       "    </tr>\n",
       "  </tbody>\n",
       "</table>\n",
       "</div>"
      ],
      "text/plain": [
       "            cnt(A)  sum(A)  cnt(B)  sum(B)\n",
       "date                                      \n",
       "2019-09-01      56  110247      52  163098\n",
       "2019-09-02      56   26457      59   93317\n",
       "2019-09-03      54   56418      46   16985\n",
       "2019-09-04      59   27379      46   31152\n",
       "2019-09-05      49   17503      82   32306"
      ]
     },
     "execution_count": 3,
     "metadata": {},
     "output_type": "execute_result"
    }
   ],
   "source": [
    "# writing data to a table and simplifying labeling\n",
    "df = pd.read_csv(\"jewelry.csv\")\n",
    "df[\"Variant\"] = df[\"Variant\"].map({90:'A', 10:'B'})\n",
    "\n",
    "# splitting the table into two by different test options\n",
    "df_a = df[df[\"Variant\"]==\"A\"]\n",
    "df_b = df[df[\"Variant\"]==\"B\"]\n",
    "del df_a[\"Variant\"], df_b[\"Variant\"]\n",
    "\n",
    "# merge into a single shared folder with indexing by date\n",
    "df = df_a.merge(df_b, on=\"date\")\n",
    "df.index = df_a.date\n",
    "del df[\"date\"]\n",
    "df.columns = ['cnt(A)', 'sum(A)', 'cnt(B)', 'sum(B)']\n",
    "df.head()"
   ]
  },
  {
   "cell_type": "markdown",
   "metadata": {},
   "source": [
    "At this stage, the question arises: what metric should I choose for an objective assessment of the test quality? It is clear that just taking the metrics of the number of added products and their amount is not enough - we will answer why. As for the amount of goods, it does not carry anything informative without reference to the number of goods, because they can vary greatly in prices. The same applies to units of goods - you can buy a couple of products for a price many times higher than the other ten products. Thus, it becomes obvious that it is necessary to link both indicators. Let's take a criterion that represents the ratio of the amount of goods to their quantity."
   ]
  },
  {
   "cell_type": "code",
   "execution_count": 5,
   "metadata": {
    "scrolled": true
   },
   "outputs": [
    {
     "data": {
      "text/html": [
       "<div>\n",
       "<style scoped>\n",
       "    .dataframe tbody tr th:only-of-type {\n",
       "        vertical-align: middle;\n",
       "    }\n",
       "\n",
       "    .dataframe tbody tr th {\n",
       "        vertical-align: top;\n",
       "    }\n",
       "\n",
       "    .dataframe thead th {\n",
       "        text-align: right;\n",
       "    }\n",
       "</style>\n",
       "<table border=\"1\" class=\"dataframe\">\n",
       "  <thead>\n",
       "    <tr style=\"text-align: right;\">\n",
       "      <th></th>\n",
       "      <th>rat_A</th>\n",
       "      <th>rat_B</th>\n",
       "    </tr>\n",
       "    <tr>\n",
       "      <th>date</th>\n",
       "      <th></th>\n",
       "      <th></th>\n",
       "    </tr>\n",
       "  </thead>\n",
       "  <tbody>\n",
       "    <tr>\n",
       "      <th>2019-09-01</th>\n",
       "      <td>1968.696429</td>\n",
       "      <td>3136.500000</td>\n",
       "    </tr>\n",
       "    <tr>\n",
       "      <th>2019-09-02</th>\n",
       "      <td>472.446429</td>\n",
       "      <td>1581.644068</td>\n",
       "    </tr>\n",
       "    <tr>\n",
       "      <th>2019-09-03</th>\n",
       "      <td>1044.777778</td>\n",
       "      <td>369.239130</td>\n",
       "    </tr>\n",
       "    <tr>\n",
       "      <th>2019-09-04</th>\n",
       "      <td>464.050847</td>\n",
       "      <td>677.217391</td>\n",
       "    </tr>\n",
       "  </tbody>\n",
       "</table>\n",
       "</div>"
      ],
      "text/plain": [
       "                  rat_A        rat_B\n",
       "date                                \n",
       "2019-09-01  1968.696429  3136.500000\n",
       "2019-09-02   472.446429  1581.644068\n",
       "2019-09-03  1044.777778   369.239130\n",
       "2019-09-04   464.050847   677.217391"
      ]
     },
     "execution_count": 5,
     "metadata": {},
     "output_type": "execute_result"
    }
   ],
   "source": [
    "df[\"rat_A\"] = df[\"sum(A)\"] / df[\"cnt(A)\"]\n",
    "df[\"rat_B\"] = df[\"sum(B)\"] / df[\"cnt(B)\"]\n",
    "column_names = ['rat_A', 'rat_B']\n",
    "df = df.reindex(columns=column_names)\n",
    "df.head(4)"
   ]
  },
  {
   "cell_type": "markdown",
   "metadata": {},
   "source": [
    "Find the average values for the control and test groups."
   ]
  },
  {
   "cell_type": "code",
   "execution_count": 9,
   "metadata": {},
   "outputs": [
    {
     "name": "stdout",
     "output_type": "stream",
     "text": [
      "The average cost per product addition is:\n",
      "in the control sample:\n",
      "\t729.02142530739;\n",
      "in the test sample:\n",
      "\t814.605073329606\n",
      "\n",
      "The difference is: 85.58364802221593.\n"
     ]
    }
   ],
   "source": [
    "print(f\"The average cost per product addition is:\\n\\\n",
    "in the control sample:\\n\\\n",
    "\\t{np.mean(df.rat_A)};\\n\\\n",
    "in the test sample:\\n\\\n",
    "\\t{np.mean(df.rat_B)}\")\n",
    "\n",
    "diff_mean = np.mean(df.rat_B)-np.mean(df.rat_A)\n",
    "print(f\"\\nThe difference is: {diff_mean}.\")"
   ]
  },
  {
   "cell_type": "markdown",
   "metadata": {},
   "source": [
    "We see that the average metric value for group B is 86 units higher than the average for A. Let's find out if this is an accident, or if the difference between site designs is so significant.\n",
    "\n",
    "**For the null hypothesis, we assume that the difference is random, while the alternative hypothesis is that it is, on the contrary, statistically significant.**"
   ]
  },
  {
   "cell_type": "markdown",
   "metadata": {},
   "source": [
    "Let's estimate the type of distribution that corresponds to our sample."
   ]
  },
  {
   "cell_type": "code",
   "execution_count": 287,
   "metadata": {},
   "outputs": [
    {
     "data": {
      "image/png": "[encoded data removed]",
      "text/plain": [
       "<Figure size 720x360 with 2 Axes>"
      ]
     },
     "metadata": {
      "needs_background": "light"
     },
     "output_type": "display_data"
    }
   ],
   "source": [
    "plt.figure(figsize=(10, 5))\n",
    "\n",
    "plt.subplot(1, 2, 1)\n",
    "plt.title('Variant А')\n",
    "df.rat_A.hist()\n",
    "\n",
    "plt.subplot(1, 2, 2)\n",
    "plt.title('Variant B')\n",
    "df.rat_B.hist()\n",
    "\n",
    "plt.show()"
   ]
  },
  {
   "cell_type": "markdown",
   "metadata": {},
   "source": [
    "Obviously, the distribution is not normal. In this case, we will use a bootstrap that does not depend on the type of SV distribution."
   ]
  },
  {
   "cell_type": "code",
   "execution_count": 11,
   "metadata": {},
   "outputs": [
    {
     "name": "stdout",
     "output_type": "stream",
     "text": [
      "p_value = : 0.49733333333333335.\n"
     ]
    }
   ],
   "source": [
    "N = 1500\n",
    "diff = []\n",
    "for i in range(N):\n",
    "    a = np.random.choice(df.rat_A, size=25)\n",
    "    b = np.random.choice(df.rat_B, size=25)\n",
    "    diff.append(np.mean(b)-np.mean(a))\n",
    "\n",
    "diff = np.array(diff)\n",
    "p_value = len(diff[diff>diff_mean])/len(diff)\n",
    "print(f\"p_value = : {p_value}.\")"
   ]
  },
  {
   "cell_type": "markdown",
   "metadata": {},
   "source": [
    "As we can see, the p_value criterion is greater than the threshold value of 0.05, so there is no reason to reject the null hypothesis.\n",
    "Nevertheless, we will not rush - perhaps after centering we will get a different result."
   ]
  },
  {
   "cell_type": "code",
   "execution_count": 13,
   "metadata": {},
   "outputs": [
    {
     "name": "stdout",
     "output_type": "stream",
     "text": [
      "After centering p_value = 0.32.\n"
     ]
    }
   ],
   "source": [
    "diff = diff - np.mean(diff)\n",
    "p_value_new = len(diff[diff>diff_mean])/len(diff)\n",
    "print(f\"After centering p_value = {p_value_new}.\")"
   ]
  },
  {
   "cell_type": "markdown",
   "metadata": {},
   "source": [
    "The p_value value has changed, but not by much - it is still too large to claim that the difference is statistically significant. Therefore, there is no difference as such between the two types of ring size selection, which, by the way, is a rather unexpected result."
   ]
  }
 ],
 "metadata": {
  "kernelspec": {
   "display_name": "Python 3",
   "language": "python",
   "name": "python3"
  },
  "language_info": {
   "codemirror_mode": {
    "name": "ipython",
    "version": 3
   },
   "file_extension": ".py",
   "mimetype": "text/x-python",
   "name": "python",
   "nbconvert_exporter": "python",
   "pygments_lexer": "ipython3",
   "version": "3.7.9"
  }
 },
 "nbformat": 4,
 "nbformat_minor": 4
}
