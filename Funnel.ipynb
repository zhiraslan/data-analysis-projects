{
 "cells": [
  {
   "cell_type": "code",
   "execution_count": 1,
   "metadata": {},
   "outputs": [
    {
     "name": "stdout",
     "output_type": "stream",
     "text": [
      "142082\n"
     ]
    }
   ],
   "source": [
    "import csv\n",
    "\n",
    "p1, p2, p3, p4 = 0, 0, 0, 0\n",
    "with open('click_stream.csv', mode='r') as csv_file: # открываем файл\n",
    "    reader = csv.DictReader(csv_file) # читаем файл\n",
    "    for row in reader:\n",
    "        if '1' in row['page']:\n",
    "            p1 += 1\n",
    "        elif '2' in row['page']:\n",
    "            p2 += 1\n",
    "        elif '3' in row['page']:\n",
    "            p3 += 1\n",
    "        elif '4' in row['page']:\n",
    "            p4 += 1\n",
    "print(p1+p2+p3+p4)"
   ]
  },
  {
   "cell_type": "code",
   "execution_count": 6,
   "metadata": {},
   "outputs": [
    {
     "data": {
      "image/png": "[encoded data removed]",
      "text/plain": [
       "<Figure size 1150x500 with 1 Axes>"
      ]
     },
     "metadata": {
      "needs_background": "light"
     },
     "output_type": "display_data"
    }
   ],
   "source": [
    "import pandas as pd\n",
    "import numpy as np\n",
    "import matplotlib.pyplot as plt\n",
    "\n",
    "\n",
    "h = [p1, p2, p3, p4]\n",
    "h = h[::-1]\n",
    "r = ['page 1', 'page 2', 'page 3', 'page 4']\n",
    "plt.figure(figsize=(23,10), dpi= 50)\n",
    "h = np.array(h)\n",
    "plt.gca().use_sticky_edges = False\n",
    "plt.barh(r, width=h*2, left=-h, align='center', color='crimson')\n",
    "i=0\n",
    "for ri in r:\n",
    "    plt.text(x=0, y=r[i], s=h[i], ha='center', va='center', color='black', size=20)\n",
    "    i+=1\n",
    "# plt.xticks([]) # optionally remove standard y ticks and their labels   - отключение\n",
    "\n",
    "# изменение размеров подписей по осям\n",
    "plt.xticks(fontsize=20)\n",
    "plt.yticks(fontsize=20)\n",
    "\n",
    "plt.show()"
   ]
  },
  {
   "cell_type": "code",
   "execution_count": 3,
   "metadata": {},
   "outputs": [
    {
     "name": "stdout",
     "output_type": "stream",
     "text": [
      "142082\n"
     ]
    }
   ],
   "source": [
    "d1, d2, d3, d4 = 0, 0, 0, 0\n",
    "with open('click_stream.csv', mode='r') as csv_file: # открываем файл\n",
    "    reader = csv.DictReader(csv_file) # читаем файл\n",
    "    for row in reader:\n",
    "        if '-01-' in row['date']:\n",
    "            d1 += 1\n",
    "        elif '-02-' in row['date']:\n",
    "            d2 += 1\n",
    "        elif '-03-' in row['date']:\n",
    "            d3 += 1\n",
    "        elif '-04-' in row['date']:\n",
    "            d4 += 1\n",
    "print(d1+d2+d3+d4)"
   ]
  },
  {
   "cell_type": "code",
   "execution_count": 13,
   "metadata": {},
   "outputs": [
    {
     "data": {
      "image/png": "[encoded data removed]",
      "text/plain": [
       "<Figure size 1150x500 with 1 Axes>"
      ]
     },
     "metadata": {
      "needs_background": "light"
     },
     "output_type": "display_data"
    }
   ],
   "source": [
    "h = [d1, d2, d3, d4]\n",
    "h = h[::-1]\n",
    "r = ['Jan', 'Feb', 'Mar', 'Apr']\n",
    "plt.figure(figsize=(23,10), dpi= 50)\n",
    "h = np.array(h)\n",
    "plt.gca().use_sticky_edges = False\n",
    "plt.barh(r, width=h*2, left=-h, align='center', color='cyan')\n",
    "i=0\n",
    "for ri in r:\n",
    "    plt.text(x=0, y=r[i], s=f'{round(h[i]/sum(h)*100, 2)}%', ha='center', va='center', color='black', size=20)\n",
    "    i+=1\n",
    "plt.title(\"По месяцам\", fontsize=25)\n",
    "plt.xticks(fontsize=20)\n",
    "plt.yticks(fontsize=20)\n",
    "\n",
    "plt.show()\n"
   ]
  },
  {
   "cell_type": "code",
   "execution_count": 5,
   "metadata": {
    "scrolled": true
   },
   "outputs": [
    {
     "data": {
      "text/plain": [
       "{'2015-02': {'1_home_page': 22600,\n",
       "  '2_search_page': 13687,\n",
       "  '3_payment_page': 2412,\n",
       "  '4_payment_confirmation_page': 173},\n",
       " '2015-03': {'1_home_page': 22600,\n",
       "  '2_search_page': 8879,\n",
       "  '3_payment_page': 631,\n",
       "  '4_payment_confirmation_page': 44},\n",
       " '2015-01': {'1_home_page': 22600,\n",
       "  '2_search_page': 13554,\n",
       "  '3_payment_page': 2390,\n",
       "  '4_payment_confirmation_page': 189},\n",
       " '2015-04': {'1_home_page': 22600,\n",
       "  '2_search_page': 9080,\n",
       "  '3_payment_page': 597,\n",
       "  '4_payment_confirmation_page': 46}}"
      ]
     },
     "execution_count": 5,
     "metadata": {},
     "output_type": "execute_result"
    }
   ],
   "source": [
    "import csv\n",
    "\n",
    "funnel_by_month = {} # создаем словарь, где будут храниться словари за каждый месяц\n",
    "funnel_template = {'1_home_page':0, '2_search_page':0, '3_payment_page':0, '4_payment_confirmation_page':0}\n",
    "\n",
    "with open('click_stream.csv', mode='r') as csv_file: # открываем файл\n",
    "    csv_reader = csv.DictReader(csv_file) # читаем файл\n",
    "    \n",
    "    # проходим циклом по объекту csv_reader\n",
    "    for row in csv_reader: # берем строку из объекта csv_reader\n",
    "#         print(list(row.items())[1][1])\n",
    "#         print(list(row.items())[2][1][:-3])\n",
    "        page = list(row.items())[1][1] # вытаскиваем название страницы\n",
    "        event_date = list(row.items())[2][1][:-3] # вытаскиваем дату в формате YYYY-MM\n",
    "        \n",
    "        # проверяем существует ли ключ со значением event_date в словаре\n",
    "        if event_date not in funnel_by_month: # если нет\n",
    "            funnel_by_month[event_date] = funnel_template.copy() # создаем ключ, в значение копируем заготовку\n",
    "#         print(funnel_by_month[event_date])\n",
    "#         # проверяем условиями и прибавляем единицу к нужному ключу в словаре\n",
    "        if page == '1_home_page':\n",
    "            funnel_by_month[event_date]['1_home_page'] += 1\n",
    "        elif page == '2_search_page':\n",
    "            funnel_by_month[event_date]['2_search_page'] += 1\n",
    "        elif page == '3_payment_page':\n",
    "            funnel_by_month[event_date]['3_payment_page'] += 1\n",
    "        else:\n",
    "            funnel_by_month[event_date]['4_payment_confirmation_page'] += 1\n",
    "            \n",
    "funnel_by_month "
   ]
  },
  {
   "cell_type": "code",
   "execution_count": 6,
   "metadata": {},
   "outputs": [
    {
     "name": "stdout",
     "output_type": "stream",
     "text": [
      "{'2015-02': {'1_home_page': 15050, '2_search_page': 7632, '3_payment_page': 1191, '4_payment_confirmation_page': 54}, '2015-03': {'1_home_page': 15050, '2_search_page': 7370, '3_payment_page': 296, '4_payment_confirmation_page': 14}, '2015-01': {'1_home_page': 15050, '2_search_page': 7529, '3_payment_page': 1221, '4_payment_confirmation_page': 60}, '2015-04': {'1_home_page': 15050, '2_search_page': 7569, '3_payment_page': 302, '4_payment_confirmation_page': 22}}\n",
      "\n",
      "{'2015-01': {'1_home_page': 7550, '2_search_page': 6025, '3_payment_page': 1169, '4_payment_confirmation_page': 129}, '2015-04': {'1_home_page': 7550, '2_search_page': 1511, '3_payment_page': 295, '4_payment_confirmation_page': 24}, '2015-03': {'1_home_page': 7550, '2_search_page': 1509, '3_payment_page': 335, '4_payment_confirmation_page': 30}, '2015-02': {'1_home_page': 7550, '2_search_page': 6055, '3_payment_page': 1221, '4_payment_confirmation_page': 119}}\n"
     ]
    }
   ],
   "source": [
    "funnel_by_month_Desktop = {}\n",
    "funnel_by_month_Mobile = {}\n",
    "funnel_template = {'1_home_page':0, '2_search_page':0, '3_payment_page':0, '4_payment_confirmation_page':0}\n",
    "\n",
    "with open('click_stream2.csv', mode='r') as csv_file:\n",
    "    csv_reader = csv.DictReader(csv_file)\n",
    "    for row in csv_reader:\n",
    "        page = list(row.items())[1][1]\n",
    "        event_date = list(row.items())[2][1][:-3]\n",
    "        dev = list(row.items())[3][1]\n",
    "        if dev == 'Desktop':\n",
    "            if event_date not in funnel_by_month_Desktop:\n",
    "                funnel_by_month_Desktop[event_date] = funnel_template.copy()\n",
    "            if page == '1_home_page':\n",
    "                funnel_by_month_Desktop[event_date]['1_home_page'] += 1\n",
    "            elif page == '2_search_page':\n",
    "                funnel_by_month_Desktop[event_date]['2_search_page'] += 1\n",
    "            elif page == '3_payment_page':\n",
    "                funnel_by_month_Desktop[event_date]['3_payment_page'] += 1\n",
    "            else:\n",
    "                funnel_by_month_Desktop[event_date]['4_payment_confirmation_page'] += 1\n",
    "        else:\n",
    "            if event_date not in funnel_by_month_Mobile:\n",
    "                funnel_by_month_Mobile[event_date] = funnel_template.copy()\n",
    "            if page == '1_home_page':\n",
    "                funnel_by_month_Mobile[event_date]['1_home_page'] += 1\n",
    "            elif page == '2_search_page':\n",
    "                funnel_by_month_Mobile[event_date]['2_search_page'] += 1\n",
    "            elif page == '3_payment_page':\n",
    "                funnel_by_month_Mobile[event_date]['3_payment_page'] += 1\n",
    "            else:\n",
    "                funnel_by_month_Mobile[event_date]['4_payment_confirmation_page'] += 1\n",
    "            \n",
    "print(funnel_by_month_Desktop)\n",
    "print()\n",
    "print(funnel_by_month_Mobile)"
   ]
  },
  {
   "cell_type": "markdown",
   "metadata": {},
   "source": [
    "**Домашнее задание**"
   ]
  },
  {
   "cell_type": "code",
   "execution_count": 7,
   "metadata": {},
   "outputs": [
    {
     "name": "stdout",
     "output_type": "stream",
     "text": [
      "{'2015-02': {'1_home_page': 11401, '2_search_page': 6867, '3_payment_page': 1177, '4_payment_confirmation_page': 87}, '2015-03': {'1_home_page': 11350, '2_search_page': 4425, '3_payment_page': 294, '4_payment_confirmation_page': 18}, '2015-01': {'1_home_page': 11186, '2_search_page': 6641, '3_payment_page': 1147, '4_payment_confirmation_page': 80}, '2015-04': {'1_home_page': 11388, '2_search_page': 4591, '3_payment_page': 312, '4_payment_confirmation_page': 26}}\n",
      "\n",
      "{'2015-02': {'1_home_page': 11199, '2_search_page': 6820, '3_payment_page': 1235, '4_payment_confirmation_page': 86}, '2015-03': {'1_home_page': 11250, '2_search_page': 4454, '3_payment_page': 337, '4_payment_confirmation_page': 26}, '2015-01': {'1_home_page': 11414, '2_search_page': 6913, '3_payment_page': 1243, '4_payment_confirmation_page': 109}, '2015-04': {'1_home_page': 11212, '2_search_page': 4489, '3_payment_page': 285, '4_payment_confirmation_page': 20}}\n"
     ]
    }
   ],
   "source": [
    "import csv\n",
    "\n",
    "funnel_by_month_Male = {}\n",
    "funnel_by_month_Female = {}\n",
    "funnel_template = {'1_home_page':0, '2_search_page':0, '3_payment_page':0, '4_payment_confirmation_page':0}\n",
    "\n",
    "with open('click_stream3.csv', mode='r') as csv_file:\n",
    "    csv_reader = csv.DictReader(csv_file)\n",
    "    for row in csv_reader:\n",
    "        page = list(row.items())[1][1]\n",
    "        event_date = list(row.items())[2][1][:-3]\n",
    "        gender = list(row.items())[4][1]\n",
    "        if gender == 'Male':\n",
    "            if event_date not in funnel_by_month_Male:\n",
    "                funnel_by_month_Male[event_date] = funnel_template.copy()\n",
    "            if page == '1_home_page':\n",
    "                funnel_by_month_Male[event_date]['1_home_page'] += 1\n",
    "            elif page == '2_search_page':\n",
    "                funnel_by_month_Male[event_date]['2_search_page'] += 1\n",
    "            elif page == '3_payment_page':\n",
    "                funnel_by_month_Male[event_date]['3_payment_page'] += 1\n",
    "            else:\n",
    "                funnel_by_month_Male[event_date]['4_payment_confirmation_page'] += 1\n",
    "        else:\n",
    "            if event_date not in funnel_by_month_Female:\n",
    "                funnel_by_month_Female[event_date] = funnel_template.copy()\n",
    "            if page == '1_home_page':\n",
    "                funnel_by_month_Female[event_date]['1_home_page'] += 1\n",
    "            elif page == '2_search_page':\n",
    "                funnel_by_month_Female[event_date]['2_search_page'] += 1\n",
    "            elif page == '3_payment_page':\n",
    "                funnel_by_month_Female[event_date]['3_payment_page'] += 1\n",
    "            else:\n",
    "                funnel_by_month_Female[event_date]['4_payment_confirmation_page'] += 1\n",
    "            \n",
    "print(funnel_by_month_Male)\n",
    "print()\n",
    "print(funnel_by_month_Female)\n",
    "\n",
    "#СОЗДАЙ DF, ЧТОБЫ ПРОСЛЕЖИВАЛАСЬ ТЕНДЕНЦИЯ - ЗАВИСИТ ЛИ ЧТО-НИБУДЬ ОТ ПОЛА ПОСЕТИТЕЛЯ САЙТА \n"
   ]
  },
  {
   "cell_type": "code",
   "execution_count": 8,
   "metadata": {},
   "outputs": [
    {
     "name": "stdout",
     "output_type": "stream",
     "text": [
      "Ниже приведены данные в процентах\n",
      "        2015-02  2015-03  2015-01  2015-04\n",
      "page_1    58.37    70.55    58.71    69.79\n",
      "page_2    35.16    27.51    34.85    28.14\n",
      "page_3     6.03     1.83     6.02     1.91\n",
      "page_4     0.45     0.11     0.42     0.16\n",
      "\n",
      "        2015-02  2015-03  2015-01  2015-04\n",
      "page_1    57.91    70.02    58.00    70.05\n",
      "page_2    35.26    27.72    35.13    28.05\n",
      "page_3     6.39     2.10     6.32     1.78\n",
      "page_4     0.44     0.16     0.55     0.12\n",
      "\n",
      "Видно, что динамика пользователей, дошедших до всех страниц на нашем сайте, одинакова для обоих полов. На\n",
      "основании этого можем сделать вывод, что пол посетителей сайта в нашем исследовании никакой роли не играет.\n"
     ]
    }
   ],
   "source": [
    "import pandas as pd\n",
    "\n",
    "df_male = pd.DataFrame()\n",
    "df_female = pd.DataFrame()\n",
    "\n",
    "for s in funnel_by_month_Male:\n",
    "    d = None\n",
    "    d = []\n",
    "    for p in funnel_by_month_Male[s]:\n",
    "        d.append(funnel_by_month_Male[s][p])\n",
    "    df_male[s] =[round(x/sum(d)*100, 2) for x in d]\n",
    "    df_male.index=['page_1','page_2','page_3','page_4']\n",
    "    \n",
    "for s in funnel_by_month_Female:\n",
    "    d = None\n",
    "    d = []\n",
    "    for p in funnel_by_month_Female[s]:\n",
    "        d.append(funnel_by_month_Female[s][p])\n",
    "    df_female[s] = [round(x/sum(d)*100, 2) for x in d]\n",
    "    df_female.index=['page_1','page_2','page_3','page_4']\n",
    "    \n",
    "print('Ниже приведены данные в процентах')\n",
    "print(df_male)\n",
    "print()\n",
    "print(df_female)\n",
    "print('\\nВидно, что динамика пользователей, дошедших до всех страниц на нашем сайте, одинакова для обоих полов. На')\n",
    "print('основании этого можем сделать вывод, что пол посетителей сайта в нашем исследовании никакой роли не играет.')"
   ]
  }
 ],
 "metadata": {
  "kernelspec": {
   "display_name": "Python 3",
   "language": "python",
   "name": "python3"
  },
  "language_info": {
   "codemirror_mode": {
    "name": "ipython",
    "version": 3
   },
   "file_extension": ".py",
   "mimetype": "text/x-python",
   "name": "python",
   "nbconvert_exporter": "python",
   "pygments_lexer": "ipython3",
   "version": "3.7.9"
  }
 },
 "nbformat": 4,
 "nbformat_minor": 2
}
