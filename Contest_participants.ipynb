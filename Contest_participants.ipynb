{
 "cells": [
  {
   "cell_type": "code",
   "execution_count": 1,
   "metadata": {},
   "outputs": [],
   "source": [
    "import pandas as pd\n",
    "import numpy as np\n",
    "\n",
    "# для парсинга данных с сайта\n",
    "from selenium import webdriver\n",
    "from selenium.webdriver.chrome.options import Options\n",
    "from selenium.webdriver.common.by import By\n",
    "from selenium.webdriver.support.ui import WebDriverWait\n",
    "from selenium.webdriver.support import expected_conditions as EC\n",
    "\n",
    "# для обнаружения соответствий паттернам\n",
    "import re\n",
    "\n",
    "# для выполнения транслита\n",
    "import pytils\n",
    "from pytils.translit import translify\n",
    "\n",
    "# для сложной сортировки\n",
    "from operator import itemgetter\n",
    "\n",
    "# для визуализации\n",
    "import seaborn as sns\n",
    "from matplotlib import pyplot as plt\n",
    "\n",
    "# для записи в файлы формата .csv\n",
    "import csv"
   ]
  },
  {
   "cell_type": "markdown",
   "metadata": {},
   "source": [
    "### [*Ссылка*](#Выгрузка-кода-страницы-из-файла)\n",
    "*(для пропуска авторизации)*"
   ]
  },
  {
   "cell_type": "markdown",
   "metadata": {},
   "source": [
    "### Подготовка данных"
   ]
  },
  {
   "cell_type": "code",
   "execution_count": 3,
   "metadata": {
    "scrolled": false
   },
   "outputs": [],
   "source": [
    "with open('auth.txt', encoding=\"utf-8\") as file_auth:\n",
    "    text_auth = file_auth.read()\n",
    "    file_auth.close()\n",
    "login, password = [i.split(' ')[-1] for i in text_auth.split('\\n')]\n",
    "\n",
    "# данные для перехода по ссылке на сайт\n",
    "URL = 'https://ai.leader-id.ru/contest/1/stage/1/activity/4/'\n",
    "path = 'C:/Users/Жираслан/Downloads/chromedriver_win32 (1)/chromedriver.exe'\n",
    "\n",
    "# открытие Google Chrome\n",
    "driver = webdriver.Chrome(executable_path=path) \n",
    "driver.get(URL)\n",
    "\n",
    "# авторизация\n",
    "elem = driver.find_element_by_xpath('//*[@id=\"loginEmail\"]')\n",
    "elem.send_keys(login)\n",
    "elem = driver.find_element_by_xpath('//*[@id=\"loginPassword\"]')\n",
    "elem.send_keys(password)\n",
    "\n",
    "# подтверждение\n",
    "element = driver.find_element_by_xpath('//*[@id=\"sbmt\"]')\n",
    "element.click();"
   ]
  },
  {
   "cell_type": "code",
   "execution_count": 4,
   "metadata": {
    "scrolled": true
   },
   "outputs": [],
   "source": [
    "# прокрутка ползунка для полного отображения стрницы\n",
    "\n",
    "step = 0\n",
    "e = []\n",
    "i = 0\n",
    "while (step < 20000):\n",
    "    step = driver.execute_script(\"return document.body.scrollHeight;\")\n",
    "    driver.execute_script(f\"window.scrollTo(0, {step});\")\n",
    "    e = driver.execute_script(\"return document.getElementsByClassName('wrapper__top_3ztMC')\")\n",
    "    if (len(e)%200==5 and len(e)>200):\n",
    "        element = WebDriverWait(driver, 5000)\n",
    "    if len(e)>=530:\n",
    "        break\n",
    "    i += 1"
   ]
  },
  {
   "cell_type": "code",
   "execution_count": 5,
   "metadata": {
    "scrolled": true
   },
   "outputs": [],
   "source": [
    "while (step < 40000):\n",
    "    step = driver.execute_script(\"return document.body.scrollHeight;\")\n",
    "    driver.execute_script(f\"window.scrollTo(0, {step});\")\n",
    "    e = driver.execute_script(\"return document.getElementsByClassName('wrapper__top_3ztMC')\")\n",
    "    if (len(e)%200==5 and len(e)>200):\n",
    "        element = WebDriverWait(driver, 5000)\n",
    "    if len(e)>=530:\n",
    "        break\n",
    "    i += 1"
   ]
  },
  {
   "cell_type": "code",
   "execution_count": 6,
   "metadata": {
    "scrolled": true
   },
   "outputs": [],
   "source": [
    "while (step < 60000):\n",
    "    step = driver.execute_script(\"return document.body.scrollHeight;\")\n",
    "    driver.execute_script(f\"window.scrollTo(0, {step});\")\n",
    "    e = driver.execute_script(\"return document.getElementsByClassName('wrapper__top_3ztMC')\")\n",
    "    if (len(e)%200==5 and len(e)>200):\n",
    "        element = WebDriverWait(driver, 7000)\n",
    "    if len(e)>=530:\n",
    "        break\n",
    "    i += 1"
   ]
  },
  {
   "cell_type": "code",
   "execution_count": 7,
   "metadata": {
    "scrolled": true
   },
   "outputs": [],
   "source": [
    "while (step < 71300):\n",
    "    step = driver.execute_script(\"return document.body.scrollHeight;\")\n",
    "    driver.execute_script(f\"window.scrollTo(0, {step});\")\n",
    "    e = driver.execute_script(\"return document.getElementsByClassName('wrapper__top_3ztMC')\")\n",
    "    if (len(e)%200==5 and len(e)>200):\n",
    "        element = WebDriverWait(driver, 10000)\n",
    "    if len(e)>=530:\n",
    "        break\n",
    "    i += 1"
   ]
  },
  {
   "cell_type": "code",
   "execution_count": 8,
   "metadata": {},
   "outputs": [],
   "source": [
    "# сохранение кода страницы и запись его в файл \n",
    "text = driver.page_source\n",
    "with open(\"page_code.txt\", 'w', encoding=\"utf-8\") as f:\n",
    "    f.write(text)\n",
    "f.close()\n",
    "\n",
    "# закрытие Google Chrome\n",
    "driver.quit()"
   ]
  },
  {
   "cell_type": "markdown",
   "metadata": {},
   "source": [
    "#### Выгрузка кода страницы из файла"
   ]
  },
  {
   "cell_type": "code",
   "execution_count": 14,
   "metadata": {},
   "outputs": [],
   "source": [
    "file = open('page_code.txt', encoding=\"utf-8\")\n",
    "text = file.read()\n",
    "file.close()"
   ]
  },
  {
   "cell_type": "code",
   "execution_count": 15,
   "metadata": {},
   "outputs": [],
   "source": [
    "# функция удаления единственной лишней ссылки, подходящей шаблону, не подходящей условию\n",
    "def delete_excess():\n",
    "    for i in range(len(links)):\n",
    "        if links[i]=='https://2035.dev/':\n",
    "            del links[i]"
   ]
  },
  {
   "cell_type": "code",
   "execution_count": 28,
   "metadata": {},
   "outputs": [
    {
     "name": "stdout",
     "output_type": "stream",
     "text": [
      "Общее количество:\n",
      "\tимен - 535.\n",
      "\tссылок - 535.\n",
      "\tучастников команд- 535.\n"
     ]
    }
   ],
   "source": [
    "# использование регулярных выражений для извлечения ссылок, имен проектов-участников и количеств членов команды\n",
    "reg_exp_links = 'a href=\"([hH]ttp.*?)\"'\n",
    "reg_exp_names = 'wrapper__top_3ztMC\">\\\\n\\s+(.*?)\\\\n'\n",
    "reg_exp_number_of_members = '<\\/svg> <span class=\"wrapper__count_.*?\"> (\\d)+[ \\b]?<\\/span>'\n",
    "\n",
    "# поиск подходящих объектов\n",
    "links = re.findall(reg_exp_links, text)\n",
    "names = re.findall(reg_exp_names, text)\n",
    "numbers = list(map(int, re.findall(reg_exp_number_of_members, text)))\n",
    "\n",
    "delete_excess()\n",
    "\n",
    "print(f'Общее количество:')\n",
    "print(f'\\tимен - {len(names)}.')\n",
    "print(f'\\tссылок - {len(links)}.')\n",
    "print(f'\\tучастников команд- {len(numbers)}.')\n"
   ]
  },
  {
   "cell_type": "code",
   "execution_count": 29,
   "metadata": {},
   "outputs": [],
   "source": [
    "# записи имен и ссылок проектов в файлы\n",
    "with open('project_names.txt', 'w', encoding=\"utf-8\") as file:\n",
    "    for _ in names:\n",
    "        file.write(_)\n",
    "        file.write('\\n')\n",
    "\n",
    "with open('project_links.txt', 'w', encoding=\"utf-8\") as file:\n",
    "    for _ in links:\n",
    "        file.write(_)\n",
    "        file.write('\\n')"
   ]
  },
  {
   "cell_type": "markdown",
   "metadata": {},
   "source": [
    "К данному этапу были извлечены необходимые для анализа данные по целевым объектам - проектам-участникам, а именно:\n",
    "* имена проектов;\n",
    "* ссылки на сайты проектов;\n",
    "* численности человек по проектам.\n",
    "\n",
    "Полученная информация была выведена в следующие файлы:\n",
    "1. **project_names.txt** (имена проектов);\n",
    "2. **project_links.txt** (ссылки на сайты проектов);"
   ]
  },
  {
   "cell_type": "markdown",
   "metadata": {},
   "source": [
    "### Выявление самых популярных доменных зон"
   ]
  },
  {
   "cell_type": "code",
   "execution_count": 30,
   "metadata": {},
   "outputs": [],
   "source": [
    "# фильтрация элементов отобранного домена\n",
    "def check_on_digits(list):\n",
    "    a = None\n",
    "    a = []\n",
    "    for i in a:\n",
    "        if (ord(i)>48 and ord(i)<58):\n",
    "            return 0\n",
    "    return 1"
   ]
  },
  {
   "cell_type": "code",
   "execution_count": 32,
   "metadata": {},
   "outputs": [],
   "source": [
    "# регулярные выражения для доменов (верхнего уровня)\n",
    "domains = []\n",
    "domain_reg_exp = '\\.(.\\w+)'\n",
    "for _ in links:\n",
    "    if '.ai.' in _:\n",
    "        domains.append('ai')\n",
    "    elif '.net.' in _:\n",
    "        domains.append('net')\n",
    "    elif '.io.' in _:\n",
    "        domains.append('io')\n",
    "    elif '.org.' in _:\n",
    "        domains.append('org')\n",
    "    elif '.team.' in _:\n",
    "        domains.append('team')\n",
    "    elif '.club.' in _:\n",
    "        domains.append('club')\n",
    "    elif '.html.' in _:\n",
    "        domains.append('html')\n",
    "    elif '.com.' in _:\n",
    "        domains.append('com')\n",
    "    elif '.ru.' in _:\n",
    "        domains.append('ru')\n",
    "    else:\n",
    "        dom = re.findall(domain_reg_exp, _)\n",
    "        if (check_on_digits(dom[-1])):\n",
    "            domains.append(dom[-1])\n",
    "        else:\n",
    "            domains.append(dom[-2])"
   ]
  },
  {
   "cell_type": "code",
   "execution_count": 33,
   "metadata": {},
   "outputs": [
    {
     "data": {
      "text/html": [
       "<div>\n",
       "<style scoped>\n",
       "    .dataframe tbody tr th:only-of-type {\n",
       "        vertical-align: middle;\n",
       "    }\n",
       "\n",
       "    .dataframe tbody tr th {\n",
       "        vertical-align: top;\n",
       "    }\n",
       "\n",
       "    .dataframe thead th {\n",
       "        text-align: right;\n",
       "    }\n",
       "</style>\n",
       "<table border=\"1\" class=\"dataframe\">\n",
       "  <thead>\n",
       "    <tr style=\"text-align: right;\">\n",
       "      <th></th>\n",
       "      <th>domain</th>\n",
       "      <th>number</th>\n",
       "    </tr>\n",
       "  </thead>\n",
       "  <tbody>\n",
       "    <tr>\n",
       "      <th>0</th>\n",
       "      <td>.ru</td>\n",
       "      <td>238</td>\n",
       "    </tr>\n",
       "    <tr>\n",
       "      <th>1</th>\n",
       "      <td>.com</td>\n",
       "      <td>157</td>\n",
       "    </tr>\n",
       "    <tr>\n",
       "      <th>2</th>\n",
       "      <td>.sk</td>\n",
       "      <td>18</td>\n",
       "    </tr>\n",
       "    <tr>\n",
       "      <th>3</th>\n",
       "      <td>.io</td>\n",
       "      <td>15</td>\n",
       "    </tr>\n",
       "    <tr>\n",
       "      <th>4</th>\n",
       "      <td>.ai</td>\n",
       "      <td>9</td>\n",
       "    </tr>\n",
       "  </tbody>\n",
       "</table>\n",
       "</div>"
      ],
      "text/plain": [
       "  domain  number\n",
       "0    .ru     238\n",
       "1   .com     157\n",
       "2    .sk      18\n",
       "3    .io      15\n",
       "4    .ai       9"
      ]
     },
     "execution_count": 33,
     "metadata": {},
     "output_type": "execute_result"
    }
   ],
   "source": [
    "# запись информации в датафрейм\n",
    "domain_quantity = {}\n",
    "for i in domains:\n",
    "    domain_quantity[i] = domains.count(i)\n",
    "    \n",
    "dom_sorted = sorted(domain_quantity.items(), key=itemgetter(1))\n",
    "df_domains = pd.DataFrame(zip(['.'+i[0] for i in dom_sorted][::-1],\n",
    "                             [i[1] for i in dom_sorted][::-1]),\n",
    "                         columns=['domain', 'number'])\n",
    "df_domains.head()"
   ]
  },
  {
   "cell_type": "code",
   "execution_count": 44,
   "metadata": {},
   "outputs": [
    {
     "data": {
      "image/png": "[encoded data removed]",
      "text/plain": [
       "<Figure size 1080x432 with 1 Axes>"
      ]
     },
     "metadata": {
      "needs_background": "light"
     },
     "output_type": "display_data"
    }
   ],
   "source": [
    "# диаграмма с информацией о ТОП-5 самых популярных доменах\n",
    "plt.figure(figsize = (15, 6))\n",
    "plt.title(\"ТОП-5 популярных доменных зон\", fontsize=17)\n",
    "plt.tick_params(labelsize=11)\n",
    "sns.barplot(x=np.array(df_domains.head().domain), y=df_domains.head().number, alpha=0.85, color=\"khaki\")\n",
    "plt.ylabel(\"Количество\", fontsize=14)\n",
    "plt.xlabel(\"Домены\", fontsize=14)\n",
    "plt.show()"
   ]
  },
  {
   "cell_type": "code",
   "execution_count": 35,
   "metadata": {},
   "outputs": [],
   "source": [
    "with open('project_info.csv', 'w', encoding=\"utf-8\", newline='') as file:\n",
    "    csv.writer(file).writerow(['Название', 'Ссылка', 'Домен', 'Кол-во участников'])\n",
    "    for _ in range(len(names)):\n",
    "        record = [names[_], links[_], domains[_], numbers[_]]\n",
    "        csv.writer(file).writerow(record)\n",
    "file.close()"
   ]
  },
  {
   "cell_type": "markdown",
   "metadata": {},
   "source": [
    "Полученные результаты вполне ожидаемы, так как .ru - национальный верхний домен страны-организатора, .com - самый популярный международный домен крммерческих организаций, а остальные преимущественно представляют собой аббревиатуры известных определений в IT-отрасли (.net - от англ. \"сеть\", .ai - Artificial Intelligence, .io - Input.Output, и т.д.)\n",
    "\n",
    "Также на этом этапе создаем файл **project_info.csv** для представления табличных данных с информацией об именах, ссылках, доменных зонах и численносей участников проектов."
   ]
  },
  {
   "cell_type": "markdown",
   "metadata": {},
   "source": [
    "### Определение количества проектов, названия которых совпадает с названиями сайта."
   ]
  },
  {
   "cell_type": "code",
   "execution_count": 36,
   "metadata": {},
   "outputs": [
    {
     "name": "stdout",
     "output_type": "stream",
     "text": [
      "Проектов, названия которых совпадают с названиями сайта - 120.\n"
     ]
    }
   ],
   "source": [
    "# лишние символы\n",
    "non_regular_syms = [i for i in text if len(str(i.encode(\"utf-8\")))>14]\n",
    "\n",
    "# формирование массива с именами проектов, входящих в ссылки\n",
    "links = [links[i].lower() for i in range(len(links))]\n",
    "names = [names[i].lower() for i in range(len(names))]\n",
    "coincedences = []\n",
    "\n",
    "for i in range(len(names)):\n",
    "    for _ in names[i]:\n",
    "        if _ in non_regular_syms:\n",
    "            names[i] = names[i].replace(_, \"\")\n",
    "    for j in translify(names[i]).split(' '):\n",
    "        if (j in links[i] and len(j)!=1 and j!='' and j not in coincedences):\n",
    "            if '.' in j:\n",
    "                j = j[:j.index('.')]\n",
    "            coincedences.append(j)\n",
    "            break\n",
    "print(f'Проектов, названия которых совпадают с названиями сайта - {len(coincedences)}.')"
   ]
  },
  {
   "cell_type": "code",
   "execution_count": 38,
   "metadata": {},
   "outputs": [],
   "source": [
    "# запись этого массива в файл\n",
    "with open('names_in links.txt', 'w', encoding=\"utf-8\") as file:\n",
    "    for _ in coincedences:\n",
    "        file.write(_)\n",
    "        file.write('\\n')\n",
    "file.close()"
   ]
  },
  {
   "cell_type": "markdown",
   "metadata": {},
   "source": [
    "Таким образом, с помощью транслита имен проектов и их деления удалось вычислить число вхождений имен в сайты."
   ]
  },
  {
   "cell_type": "markdown",
   "metadata": {},
   "source": [
    "### Распределение количества участников в одной команде"
   ]
  },
  {
   "cell_type": "code",
   "execution_count": 41,
   "metadata": {},
   "outputs": [
    {
     "data": {
      "image/png": "[encoded data removed]",
      "text/plain": [
       "<Figure size 1008x576 with 1 Axes>"
      ]
     },
     "metadata": {
      "needs_background": "light"
     },
     "output_type": "display_data"
    }
   ],
   "source": [
    "# гистограмма для визуализации\n",
    "plt.figure(figsize = (14, 8))\n",
    "sns_plot = sns.kdeplot(numbers, shade=True)\n",
    "plt.title('Распределение количества членов команд', fontsize=20)\n",
    "plt.xticks(range(11))\n",
    "plt.xlabel('Состав', fontsize=14)\n",
    "plt.ylabel('Частота', fontsize=14)\n",
    "plt.show()"
   ]
  },
  {
   "cell_type": "markdown",
   "metadata": {},
   "source": [
    "Гистограмма распределения  свидетельствует о бимодальном распрделении - то есть, у нас 2 выраженных максимума: при количестве участников, равном 1, и равном 5. Посмотрим, какую информацию могут дать нам чемпионы - первые в списке лидерборда."
   ]
  },
  {
   "cell_type": "code",
   "execution_count": 46,
   "metadata": {},
   "outputs": [
    {
     "data": {
      "image/png": "[encoded data removed]",
      "text/plain": [
       "<Figure size 720x432 with 1 Axes>"
      ]
     },
     "metadata": {
      "needs_background": "light"
     },
     "output_type": "display_data"
    }
   ],
   "source": [
    "plt.figure(figsize = (10, 6))\n",
    "sns_plot = sns.kdeplot(numbers[:50], shade=True)\n",
    "plt.title('Распределение количества членов команд ТОП-5', fontsize=20)\n",
    "plt.xticks(range(11))\n",
    "plt.xlabel('Состав', fontsize=14)\n",
    "plt.ylabel('Частота', fontsize=14)\n",
    "plt.show()"
   ]
  },
  {
   "cell_type": "markdown",
   "metadata": {},
   "source": [
    "Как показывает визуализация, наиболее успешны команды, в которых от 5-6 человек. Видимо, это облегчает задачу участникам, так как позволяет оптимально делегировать обязанности внутри проекта (в отличие о случаев, где все приходится делать небольшому числу исполнителей) и при этом не делить их на слишком незначительные роли (как если бы это было у больших составов)."
   ]
  },
  {
   "cell_type": "code",
   "execution_count": 47,
   "metadata": {},
   "outputs": [
    {
     "data": {
      "image/png": "[encoded data removed]",
      "text/plain": [
       "<Figure size 1080x432 with 1 Axes>"
      ]
     },
     "metadata": {
      "needs_background": "light"
     },
     "output_type": "display_data"
    }
   ],
   "source": [
    "plt.figure(figsize = (15, 6))\n",
    "plt.title(\"ТОП-20 в лидерборде\", fontsize=17)\n",
    "plt.tick_params(labelsize=11)\n",
    "sns.barplot(x=[i for i in range(1, 21)], y=list(map(str, numbers[:20])), alpha=0.85, color=\"khaki\")\n",
    "plt.ylabel(\"Количество участников\", fontsize=13)\n",
    "plt.xlabel(\"Место\", fontsize=14)\n",
    "plt.show()"
   ]
  },
  {
   "cell_type": "markdown",
   "metadata": {},
   "source": [
    "Как видим, из 20 лучших команд y 5 по 6 участников, у 7 по 5 участников. Таким образом, можно с уверенностью утверждать, что зависимость успеха команды значительно зависит от количества участников; наиболее оптимальный размер команды 5-6 составляет человек."
   ]
  }
 ],
 "metadata": {
  "kernelspec": {
   "display_name": "Python 3",
   "language": "python",
   "name": "python3"
  },
  "language_info": {
   "codemirror_mode": {
    "name": "ipython",
    "version": 3
   },
   "file_extension": ".py",
   "mimetype": "text/x-python",
   "name": "python",
   "nbconvert_exporter": "python",
   "pygments_lexer": "ipython3",
   "version": "3.7.9"
  }
 },
 "nbformat": 4,
 "nbformat_minor": 4
}
